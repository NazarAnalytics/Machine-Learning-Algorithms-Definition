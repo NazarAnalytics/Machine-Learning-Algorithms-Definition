{
 "cells": [
  {
   "cell_type": "markdown",
   "metadata": {},
   "source": [
    "#                    The Top Ten Machine Learning Algorithms\n",
    "\n",
    "                These are the 10 most important machine learning algorithms that you need to master to break into the field:\n"
   ]
  },
  {
   "cell_type": "markdown",
   "metadata": {},
   "source": [
    "MACHINE LEARNING:\n",
    "\n",
    "Machine learning is one of the hottest technologies right\n",
    "now. As its name suggests, it refers to a computer’s ability\n",
    "to learn from a set of data and adapt itself without being\n",
    "explicitly programmed to do so. Machine learning uses\n",
    "algorithms to analyze input data and predict an output\n",
    "within an acceptable range. The learning is either supervised or unsupervised.\n",
    "\n",
    "Supervised Learning:\n",
    "\n",
    "Supervised machine learning is enabled by algorithms that use a sample data set\n",
    "to learn and label predictable outcomes. \n",
    "\n",
    "Unsupervised Learning:\n",
    "\n",
    "Unsupervised algorithms, on the other\n",
    "hand, do not have the privilege of a sample data set to learn predictable outcomes\n",
    "from. Clustering algorithms are good examples of unsupervised machine learning.\n",
    "\n",
    "Deep learning is a subset of machine learning. Essentially, it’s an algorithm that can\n",
    "receive and calculate large volumes of input data, and still churn out meaningful\n",
    "output. What separates deep learning from other forms of algorithms is its ability\n",
    "to automatically extract features from input data.\n",
    "\n",
    "To sum up, machine learning falls under artificial intelligence. All machine learning\n",
    "is artificial intelligence, but not all artificial intelligence is machine learning. \n",
    "\n",
    "Deep learning is a subset of machine learning that identifies features of input data automatically. (You will learn ten of the top machine learning algorithms in the next\n",
    "chapter.) \n",
    "\n",
    "\n",
    "\n"
   ]
  },
  {
   "cell_type": "markdown",
   "metadata": {},
   "source": [
    "Machines are expected to automate about 25% of jobs across the globe in the next ten\n",
    "years. The number signifies the growing importance of algorithms that enable machines\n",
    "to learn and perform a variety of tasks – from simple to complex – for different purposes.\n",
    "Here is our pick of the top ten machine learning algorithms that a data scientist should\n",
    "know."
   ]
  },
  {
   "cell_type": "raw",
   "metadata": {},
   "source": [
    "CLASSIFICATION\n",
    "\n",
    "SVM- Support Vector Machines\n",
    "Discriminant Analysis\n",
    "Naive Bayes\n",
    "K Nearest Neibours\n",
    "Artificial Neural Networks (ANNs)"
   ]
  },
  {
   "cell_type": "raw",
   "metadata": {},
   "source": [
    "REGRESSION\n",
    "\n",
    "LR-Linear Regression,GLM-Generalized Linear Model\n",
    "Logistics Regression\n",
    "SVR-Support Vector Regression, GPR-Gaussian Process Regression\n",
    "OLSR-Ordinary Least Squares Regression\n",
    "Ensemble Methods\n",
    "Decision Trees\n",
    "Artificial Neural Networks (ANNs)"
   ]
  },
  {
   "cell_type": "raw",
   "metadata": {},
   "source": [
    "CLUSTERING\n",
    "\n",
    "K-Means Cluster, K-Medoids,Fuzzy C-Means\n",
    "Hierarchical\n",
    "Gaussian Mixture\n",
    "Hidden Markov Model\n",
    "Artificial Neural Networks (ANNs)\n"
   ]
  },
  {
   "cell_type": "raw",
   "metadata": {},
   "source": [
    "All Machine Learning Algorithym :\n",
    "=============================\n",
    "1.Liner Regression\n",
    "2.Logistic Regression\n",
    "3.Naive Bayes-Sentinement Analysis\n",
    "4.Decision Trees\n",
    "5.Time Series Analysis and NLP\n",
    "6.Ordinary Least Squares Regression\n",
    "7.SVM- Support Vector Machines\n",
    "8.Ensemble Methods\n",
    "9.Clustering Algorithms\n",
    "10.PCA-Principal Component Analysis\n",
    "11.Linear Discriminant Analysis\n",
    "12.K-Nearest Neighbors\n",
    "13.Learning Vector Quantization\n",
    "14.Bagging and Random Forest\n",
    "15.Boosting & XG Boost and AdaBoost\n",
    "16.Image Processing Analysis\n",
    "17.Text Analysis\n",
    "18.NLP-Natural Laungage Processing\n",
    "19.Deep Learning\n",
    "20.ComputerVision & Transfer Learning\n"
   ]
  },
  {
   "cell_type": "markdown",
   "metadata": {},
   "source": [
    "# 1. Naïve Bayes Classifier :"
   ]
  },
  {
   "cell_type": "markdown",
   "metadata": {},
   "source": [
    "The is a simple classifying algorithm that separates one kind of data from another. \n",
    "\n",
    "For instance, spam filters use this algorithm to separate genuine mails from potentially\n",
    "spammy ones. The algorithm identifies features that denote the likelihood or probability\n",
    "that data is of a type – in this case, spam. \n"
   ]
  },
  {
   "cell_type": "markdown",
   "metadata": {},
   "source": [
    "# 2. K Means Clustering :"
   ]
  },
  {
   "cell_type": "markdown",
   "metadata": {},
   "source": [
    "This algorithm groups similar-seeming data into distinct clusters. \n",
    "\n",
    "It is useful for programs like search engines that can throw up numerous results for any search term. For example,\n",
    "a search for “uber” could potentially display results for the taxi service company, food that\n",
    "the same company delivers, or quite simply dictionaries that define the meaning of the\n",
    "word. Using this algorithm, search engines can display all pages on Uber cabs once it\n",
    "figures out you’re looking for information about the taxi service. \n"
   ]
  },
  {
   "cell_type": "markdown",
   "metadata": {},
   "source": [
    "# 3. Support Vector Machine (SVM) :"
   ]
  },
  {
   "cell_type": "markdown",
   "metadata": {},
   "source": [
    "SVMs are useful for identifying correlations between two sets of information. \n",
    "\n",
    "For example,if a person’s proficiency in mathematics is related to their proficiency in statistics, then the\n",
    "SVM can predict who will do well in statistics by observing math scores. \n"
   ]
  },
  {
   "cell_type": "markdown",
   "metadata": {},
   "source": [
    "# 4. Apriori Algorithm :"
   ]
  },
  {
   "cell_type": "markdown",
   "metadata": {},
   "source": [
    "This algorithm tries to predict the future using information from the past. E-commerce\n",
    "websites use it to recommend products based on a customer’s purchasing history."
   ]
  },
  {
   "cell_type": "markdown",
   "metadata": {},
   "source": [
    "# 5. Logistic Regression :"
   ]
  },
  {
   "cell_type": "markdown",
   "metadata": {},
   "source": [
    "This type of algorithm is like the linear regression type. Both are predictive and correlate\n",
    "variables. The difference, however, is that logistic regression lists a range of possible outcomes,\n",
    "while linear regression predicts only one."
   ]
  },
  {
   "cell_type": "markdown",
   "metadata": {},
   "source": [
    "# 6. Linear Regression :\n"
   ]
  },
  {
   "cell_type": "markdown",
   "metadata": {},
   "source": [
    "As explained in the section on statistics, linear regression is used to identify the relationship\n",
    "between dependent and independent variables. It is used to explain changes in x – the\n",
    "dependent variable - by tracing it back to changes in y – the independent variable. For\n",
    "instance, if an increase in investment in advertising results in a proportionate increase in\n",
    "revenue, the algorithm will suggest higher investment in advertising to increase revenue. "
   ]
  },
  {
   "cell_type": "markdown",
   "metadata": {},
   "source": [
    "# 7. Artificial Neural Networks (ANNs) :"
   ]
  },
  {
   "cell_type": "markdown",
   "metadata": {},
   "source": [
    "Based on biological neural networks, these algorithms are used to cluster and classify\n",
    "information, and to recognize patterns. Image recognition programs use this algorithm to\n",
    "typify features of images and recognize them in new data."
   ]
  },
  {
   "cell_type": "markdown",
   "metadata": {},
   "source": [
    "# 8. Decision Trees :"
   ]
  },
  {
   "cell_type": "markdown",
   "metadata": {},
   "source": [
    "This type of algorithm is used to classify information and predict all possible outcomes according to classifications. \n",
    "\n",
    "For example, the answer to the question “Are you a data scientist?” could either be yes or no. If the answer is yes, we can use this algorithm to list\n",
    "all possible tasks the data scientist engages in to find out what tasks are most popular.\n",
    "If the answer is no, the algorithm could present a list of other occupations to determine\n",
    "what the individual does for a living."
   ]
  },
  {
   "cell_type": "markdown",
   "metadata": {},
   "source": [
    "# 9. Random Forests :"
   ]
  },
  {
   "cell_type": "markdown",
   "metadata": {},
   "source": [
    "Many decision trees combine to form random forests.\n",
    "Random forests are detailed algorithms that accumulate decision trees to classify and correlate more information and\n",
    "predict more outcomes with greater accuracy"
   ]
  },
  {
   "cell_type": "markdown",
   "metadata": {},
   "source": [
    "# 10. KNN-K Nearest Neighbors :"
   ]
  },
  {
   "cell_type": "markdown",
   "metadata": {},
   "source": [
    "This type of algorithm is often described as non-parametric and lazy, because it doesn’t\n",
    "make any assumptions about data or learn from it actively. Rather, it simply classifies new\n",
    "data by likening it to its nearest neighbor. For instance, if the data set is made of alphabets, a\n",
    "new element C would be closer to B than to A, assuming A and B are already introduced\n",
    "to the algorithm. Nearest neighbors algorithms are great for exploring random data sets\n",
    "with a large number of distinct values."
   ]
  },
  {
   "cell_type": "markdown",
   "metadata": {},
   "source": [
    "These are the 10 most important machine learning algorithms that you need to master to break into the field:\n",
    "\n",
    "• Linear regression - https://bit.ly/1LmnkPf\n",
    "\n",
    "• Logistic regression - https://bit.ly/2jH2lhi\n",
    "\n",
    "• SVM - https://bit.ly/2hM1Epx\n",
    "\n",
    "• Random forest - https://bit.ly/1WtJjw4\n",
    "\n",
    "• Gradient boosting - https://bit.ly/2AMNvyl\n",
    "\n",
    "• PCA - https://bit.ly/1MkX8V3\n",
    "\n",
    "• K-means clustering - https://bit.ly/1Pfa0B9\n",
    "\n",
    "• Collaborative filtering - https://bit.ly/2Iqf6Ku\n",
    "\n",
    "• kNN - https://bit.ly/2ryyhO4\n",
    "\n",
    "• ARIMA - https://bit.ly/2iRiy55\n",
    "\n",
    "Bonus: Neural networks - https://bit.ly/1I5qib7"
   ]
  },
  {
   "cell_type": "code",
   "execution_count": null,
   "metadata": {},
   "outputs": [],
   "source": []
  }
 ],
 "metadata": {
  "kernelspec": {
   "display_name": "Python 3",
   "language": "python",
   "name": "python3"
  },
  "language_info": {
   "codemirror_mode": {
    "name": "ipython",
    "version": 3
   },
   "file_extension": ".py",
   "mimetype": "text/x-python",
   "name": "python",
   "nbconvert_exporter": "python",
   "pygments_lexer": "ipython3",
   "version": "3.7.0"
  }
 },
 "nbformat": 4,
 "nbformat_minor": 2
}
